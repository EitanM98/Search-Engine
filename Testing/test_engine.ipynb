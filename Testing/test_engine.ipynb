{
  "nbformat": 4,
  "nbformat_minor": 0,
  "metadata": {
    "colab": {
      "provenance": []
    },
    "kernelspec": {
      "name": "python3",
      "display_name": "Python 3"
    },
    "language_info": {
      "name": "python"
    }
  },
  "cells": [
    {
      "cell_type": "code",
      "source": [
        "import json\n",
        "\n",
        "with open('new_train.json', 'rt') as f:\n",
        "  queries = json.load(f)"
      ],
      "metadata": {
        "id": "TVhKtKzqubOP"
      },
      "execution_count": 40,
      "outputs": []
    },
    {
      "cell_type": "code",
      "source": [
        "with open('queries_train.json', 'rt') as f:\n",
        "  queries_old = json.load(f)"
      ],
      "metadata": {
        "id": "33uKQ-GZhrnU"
      },
      "execution_count": 48,
      "outputs": []
    },
    {
      "cell_type": "code",
      "source": [
        "def average_precision(true_list, predicted_list, k=40):\n",
        "    true_set = frozenset(true_list)\n",
        "    predicted_list = predicted_list[:k]\n",
        "    precisions = []\n",
        "    for i,doc_id in enumerate(predicted_list):        \n",
        "        if doc_id in true_set:\n",
        "            prec = (len(precisions)+1) / (i+1)            \n",
        "            precisions.append(prec)\n",
        "    if len(precisions) == 0:\n",
        "        return 0.0\n",
        "    return round(sum(precisions)/len(precisions),3)"
      ],
      "metadata": {
        "id": "_1ayEbtmtnqm"
      },
      "execution_count": 41,
      "outputs": []
    },
    {
      "cell_type": "code",
      "execution_count": 69,
      "metadata": {
        "id": "4QxrjU6Wthui"
      },
      "outputs": [],
      "source": [
        "import requests\n",
        "from time import time\n",
        "# url = 'http://35.232.59.3:8080'\n",
        "# place the domain you got from ngrok or GCP IP below. \n",
        "url = 'http://cade-34-23-163-173.ngrok.io'\n",
        "\n",
        "qs_res = []\n",
        "for q, true_wids in queries.items():\n",
        "  duration, ap = None, None\n",
        "  t_start = time()\n",
        "  try:\n",
        "    res = requests.get(url + '/search', {'query': q}, timeout=35)\n",
        "    duration = time() - t_start\n",
        "    if res.status_code == 200:\n",
        "      pred_wids, _ = zip(*res.json())\n",
        "      ap = average_precision(true_wids, pred_wids)\n",
        "  except:\n",
        "    pass\n",
        "  \n",
        "  qs_res.append((q, duration, ap))"
      ]
    },
    {
      "cell_type": "code",
      "source": [
        "# BM25 Changes: k=1.2 , b= 0.75\n",
        "avg = sum(x[2] for x in qs_res)/len(qs_res)\n",
        "print(avg)\n",
        "avg_duration = sum(x[1] for x in qs_res)/len(qs_res)\n",
        "print(avg_duration)\n",
        "print(qs_res)"
      ],
      "metadata": {
        "colab": {
          "base_uri": "https://localhost:8080/"
        },
        "id": "kdN1SxxV7SVH",
        "outputId": "ef7a0536-b862-4bf1-8161-cc7e46ac4baa"
      },
      "execution_count": 70,
      "outputs": [
        {
          "output_type": "stream",
          "name": "stdout",
          "text": [
            "0.4497666666666667\n",
            "4.9759128332138065\n",
            "[('best marvel movie', 7.687283992767334, 0.37), ('How do kids come to world?', 11.965418577194214, 0.202), ('Information retrieval', 3.198352336883545, 0.917), ('LinkedIn', 0.10784387588500977, 0.879), ('How to make coffee?', 3.596851110458374, 0.228), ('Ritalin', 0.0773172378540039, 0.862), ('How to make wine at home?', 11.752160787582397, 0.323), ('Most expensive city in the world', 22.452245473861694, 0.259), ('India', 2.2451233863830566, 0.281), ('how to make money fast?', 6.3598949909210205, 0.727), ('Netflix', 0.23795413970947266, 0.583), ('Apple computer', 1.9177205562591553, 0.622), ('The Simpsons', 0.13965082168579102, 0.184), ('World cup', 14.379461526870728, 0.167), ('How to lose weight?', 1.2395923137664795, 0.493), ('Java', 0.26127123832702637, 0.408), ('Air Jordan', 4.215692758560181, 0.393), ('how to deal with depression?', 1.7280101776123047, 0.251), ('How do you make gold', 5.9855873584747314, 0.0), ('Marijuana', 0.14229464530944824, 0.304), ('How to make hummus', 3.247318983078003, 0.586), ('Winter', 1.431450605392456, 0.418), ('Rick and Morty', 0.6515598297119141, 0.79), ('Natural Language processing', 5.040483474731445, 0.855), ('World Cup 2022', 18.63705325126648, 0.404), ('Dolly the sheep', 0.423661470413208, 0.867), ('Cigarettes', 0.1248936653137207, 0.205), ('What is the best place to live in?', 19.176671743392944, 0.0), ('Elon musk', 0.11703824996948242, 0.415), ('How do you breed flowers?', 0.7375264167785645, 0.5)]\n"
          ]
        }
      ]
    },
    {
      "cell_type": "code",
      "source": [
        "# With query expansion\n",
        "# avg = sum(x[2] for x in qs_res)/len(qs_res)\n",
        "# print(avg)\n",
        "# avg_duration = sum(x[1] for x in qs_res)/len(qs_res)\n",
        "# print(avg_duration)\n",
        "# print(qs_res)"
      ],
      "metadata": {
        "colab": {
          "base_uri": "https://localhost:8080/"
        },
        "id": "U1niXRhpn2q1",
        "outputId": "ba0b2e94-b030-4747-bec4-f8e607d4d1ac"
      },
      "execution_count": 68,
      "outputs": [
        {
          "output_type": "stream",
          "name": "stdout",
          "text": [
            "[('best marvel movie', 22.209652423858643, 0.234), ('How do kids come to world?', 27.27296757698059, 0.088), ('Information retrieval', 5.851898431777954, 0.669), ('LinkedIn', 0.11448311805725098, 0.879), ('How to make coffee?', 6.5029823780059814, 0.521), ('Ritalin', 0.07590484619140625, 0.862), ('How to make wine at home?', 33.572147607803345, 0.052), ('Most expensive city in the world', None, None), ('India', 10.812511682510376, 0.026), ('how to make money fast?', 13.12952971458435, 0.519), ('Netflix', 0.49112415313720703, 0.0), ('Apple computer', 3.252199172973633, 0.388), ('The Simpsons', 0.24363398551940918, 0.026), ('World cup', 22.881322383880615, 0.208), ('How to lose weight?', 1.6612977981567383, 0.425), ('Java', 0.6363358497619629, 0.131), ('Air Jordan', 7.494699001312256, 0.756), ('how to deal with depression?', 2.2029576301574707, 0.395), ('How do you make gold', 11.495066404342651, 0.133), ('Marijuana', 0.2956244945526123, 0.179), ('How to make hummus', 5.233548164367676, 0.586), ('Winter', 7.505324602127075, 0.0), ('Rick and Morty', 1.5530996322631836, 0.783), ('Natural Language processing', 5.90339994430542, 0.756), ('World Cup 2022', 26.694270133972168, 0.278), ('Dolly the sheep', 0.6781346797943115, 0.227), ('Cigarettes', 0.3593599796295166, 0.355), ('What is the best place to live in?', 30.922016859054565, 0.0), ('Elon musk', 0.12290000915527344, 0.419), ('How do you breed flowers?', 1.1813390254974365, 0.0)]\n"
          ]
        }
      ]
    },
    {
      "cell_type": "code",
      "source": [
        "# Without query expansion\n",
        "avg = sum(x[2] for x in qs_res)/len(qs_res)\n",
        "print(avg)\n",
        "avg_duration = sum(x[1] for x in qs_res)/len(qs_res)\n",
        "print(avg_duration)\n",
        "print(qs_res)"
      ],
      "metadata": {
        "colab": {
          "base_uri": "https://localhost:8080/"
        },
        "id": "m329a1JVYmeQ",
        "outputId": "e0755bb9-0828-4fc2-c609-d5fcd38f9d79"
      },
      "execution_count": 46,
      "outputs": [
        {
          "output_type": "stream",
          "name": "stdout",
          "text": [
            "0.44486666666666663\n",
            "4.925975235303243\n",
            "[('best marvel movie', 7.554572582244873, 0.395), ('How do kids come to world?', 11.935236930847168, 0.208), ('Information retrieval', 3.2540321350097656, 0.912), ('LinkedIn', 0.10415148735046387, 0.879), ('How to make coffee?', 3.6856205463409424, 0.246), ('Ritalin', 0.07010436058044434, 0.862), ('How to make wine at home?', 11.853110551834106, 0.519), ('Most expensive city in the world', 22.21672558784485, 0.189), ('India', 2.1295604705810547, 0.28), ('how to make money fast?', 6.303823471069336, 0.667), ('Netflix', 0.22486257553100586, 0.622), ('Apple computer', 1.9345130920410156, 0.667), ('The Simpsons', 0.13239169120788574, 0.184), ('World cup', 14.147681474685669, 0.167), ('How to lose weight?', 1.2317054271697998, 0.482), ('Java', 0.2542736530303955, 0.407), ('Air Jordan', 4.082982301712036, 0.357), ('how to deal with depression?', 1.7188849449157715, 0.257), ('How do you make gold', 5.968695402145386, 0.026), ('Marijuana', 0.14328432083129883, 0.313), ('How to make hummus', 3.2566404342651367, 0.575), ('Winter', 1.411041259765625, 0.418), ('Rick and Morty', 0.6424505710601807, 0.783), ('Natural Language processing', 5.01246976852417, 0.875), ('World Cup 2022', 19.010789394378662, 0.399), ('Dolly the sheep', 0.42914390563964844, 0.867), ('Cigarettes', 0.12495636940002441, 0.26), ('What is the best place to live in?', 18.124666929244995, 0.0), ('Elon musk', 0.10981583595275879, 0.419), ('How do you breed flowers?', 0.7110695838928223, 0.111)]\n"
          ]
        }
      ]
    },
    {
      "cell_type": "code",
      "source": [
        "import requests\n",
        "from time import time\n",
        "# url = 'http://35.232.59.3:8080'\n",
        "# place the domain you got from ngrok or GCP IP below. \n",
        "url = 'http://3585-34-23-163-173.ngrok.io'\n",
        "\n",
        "q = 'lion'\n",
        "res =[]\n",
        "t_start = time()\n",
        "res = requests.get(url + '/get_pagerank', json=[1,5,8], timeout=35)\n",
        "duration = time() - t_start\n",
        "print(res.json())\n",
        "# print(res)\n",
        "  \n",
        "# qs_res.append((q, duration, ap))"
      ],
      "metadata": {
        "colab": {
          "base_uri": "https://localhost:8080/",
          "height": 363
        },
        "id": "l6ySq-TrxOH6",
        "outputId": "e6d3b62c-4314-4086-a5f3-301384b9c0cb"
      },
      "execution_count": 101,
      "outputs": [
        {
          "output_type": "error",
          "ename": "JSONDecodeError",
          "evalue": "ignored",
          "traceback": [
            "\u001b[0;31m---------------------------------------------------------------------------\u001b[0m",
            "\u001b[0;31mJSONDecodeError\u001b[0m                           Traceback (most recent call last)",
            "\u001b[0;32m<ipython-input-101-ec33553ccf1f>\u001b[0m in \u001b[0;36m<module>\u001b[0;34m\u001b[0m\n\u001b[1;32m     10\u001b[0m \u001b[0mres\u001b[0m \u001b[0;34m=\u001b[0m \u001b[0mrequests\u001b[0m\u001b[0;34m.\u001b[0m\u001b[0mget\u001b[0m\u001b[0;34m(\u001b[0m\u001b[0murl\u001b[0m \u001b[0;34m+\u001b[0m \u001b[0;34m'/get_pagerank'\u001b[0m\u001b[0;34m,\u001b[0m \u001b[0mjson\u001b[0m\u001b[0;34m=\u001b[0m\u001b[0;34m[\u001b[0m\u001b[0;36m1\u001b[0m\u001b[0;34m,\u001b[0m\u001b[0;36m5\u001b[0m\u001b[0;34m,\u001b[0m\u001b[0;36m8\u001b[0m\u001b[0;34m]\u001b[0m\u001b[0;34m,\u001b[0m \u001b[0mtimeout\u001b[0m\u001b[0;34m=\u001b[0m\u001b[0;36m35\u001b[0m\u001b[0;34m)\u001b[0m\u001b[0;34m\u001b[0m\u001b[0;34m\u001b[0m\u001b[0m\n\u001b[1;32m     11\u001b[0m \u001b[0mduration\u001b[0m \u001b[0;34m=\u001b[0m \u001b[0mtime\u001b[0m\u001b[0;34m(\u001b[0m\u001b[0;34m)\u001b[0m \u001b[0;34m-\u001b[0m \u001b[0mt_start\u001b[0m\u001b[0;34m\u001b[0m\u001b[0;34m\u001b[0m\u001b[0m\n\u001b[0;32m---> 12\u001b[0;31m \u001b[0mprint\u001b[0m\u001b[0;34m(\u001b[0m\u001b[0mres\u001b[0m\u001b[0;34m.\u001b[0m\u001b[0mjson\u001b[0m\u001b[0;34m(\u001b[0m\u001b[0;34m)\u001b[0m\u001b[0;34m)\u001b[0m\u001b[0;34m\u001b[0m\u001b[0;34m\u001b[0m\u001b[0m\n\u001b[0m\u001b[1;32m     13\u001b[0m \u001b[0;31m# print(res)\u001b[0m\u001b[0;34m\u001b[0m\u001b[0;34m\u001b[0m\u001b[0;34m\u001b[0m\u001b[0m\n\u001b[1;32m     14\u001b[0m \u001b[0;34m\u001b[0m\u001b[0m\n",
            "\u001b[0;32m/usr/local/lib/python3.8/dist-packages/requests/models.py\u001b[0m in \u001b[0;36mjson\u001b[0;34m(self, **kwargs)\u001b[0m\n\u001b[1;32m    898\u001b[0m                     \u001b[0;31m# used.\u001b[0m\u001b[0;34m\u001b[0m\u001b[0;34m\u001b[0m\u001b[0;34m\u001b[0m\u001b[0m\n\u001b[1;32m    899\u001b[0m                     \u001b[0;32mpass\u001b[0m\u001b[0;34m\u001b[0m\u001b[0;34m\u001b[0m\u001b[0m\n\u001b[0;32m--> 900\u001b[0;31m         \u001b[0;32mreturn\u001b[0m \u001b[0mcomplexjson\u001b[0m\u001b[0;34m.\u001b[0m\u001b[0mloads\u001b[0m\u001b[0;34m(\u001b[0m\u001b[0mself\u001b[0m\u001b[0;34m.\u001b[0m\u001b[0mtext\u001b[0m\u001b[0;34m,\u001b[0m \u001b[0;34m**\u001b[0m\u001b[0mkwargs\u001b[0m\u001b[0;34m)\u001b[0m\u001b[0;34m\u001b[0m\u001b[0;34m\u001b[0m\u001b[0m\n\u001b[0m\u001b[1;32m    901\u001b[0m \u001b[0;34m\u001b[0m\u001b[0m\n\u001b[1;32m    902\u001b[0m     \u001b[0;34m@\u001b[0m\u001b[0mproperty\u001b[0m\u001b[0;34m\u001b[0m\u001b[0;34m\u001b[0m\u001b[0m\n",
            "\u001b[0;32m/usr/lib/python3.8/json/__init__.py\u001b[0m in \u001b[0;36mloads\u001b[0;34m(s, cls, object_hook, parse_float, parse_int, parse_constant, object_pairs_hook, **kw)\u001b[0m\n\u001b[1;32m    355\u001b[0m             \u001b[0mparse_int\u001b[0m \u001b[0;32mis\u001b[0m \u001b[0;32mNone\u001b[0m \u001b[0;32mand\u001b[0m \u001b[0mparse_float\u001b[0m \u001b[0;32mis\u001b[0m \u001b[0;32mNone\u001b[0m \u001b[0;32mand\u001b[0m\u001b[0;34m\u001b[0m\u001b[0;34m\u001b[0m\u001b[0m\n\u001b[1;32m    356\u001b[0m             parse_constant is None and object_pairs_hook is None and not kw):\n\u001b[0;32m--> 357\u001b[0;31m         \u001b[0;32mreturn\u001b[0m \u001b[0m_default_decoder\u001b[0m\u001b[0;34m.\u001b[0m\u001b[0mdecode\u001b[0m\u001b[0;34m(\u001b[0m\u001b[0ms\u001b[0m\u001b[0;34m)\u001b[0m\u001b[0;34m\u001b[0m\u001b[0;34m\u001b[0m\u001b[0m\n\u001b[0m\u001b[1;32m    358\u001b[0m     \u001b[0;32mif\u001b[0m \u001b[0mcls\u001b[0m \u001b[0;32mis\u001b[0m \u001b[0;32mNone\u001b[0m\u001b[0;34m:\u001b[0m\u001b[0;34m\u001b[0m\u001b[0;34m\u001b[0m\u001b[0m\n\u001b[1;32m    359\u001b[0m         \u001b[0mcls\u001b[0m \u001b[0;34m=\u001b[0m \u001b[0mJSONDecoder\u001b[0m\u001b[0;34m\u001b[0m\u001b[0;34m\u001b[0m\u001b[0m\n",
            "\u001b[0;32m/usr/lib/python3.8/json/decoder.py\u001b[0m in \u001b[0;36mdecode\u001b[0;34m(self, s, _w)\u001b[0m\n\u001b[1;32m    335\u001b[0m \u001b[0;34m\u001b[0m\u001b[0m\n\u001b[1;32m    336\u001b[0m         \"\"\"\n\u001b[0;32m--> 337\u001b[0;31m         \u001b[0mobj\u001b[0m\u001b[0;34m,\u001b[0m \u001b[0mend\u001b[0m \u001b[0;34m=\u001b[0m \u001b[0mself\u001b[0m\u001b[0;34m.\u001b[0m\u001b[0mraw_decode\u001b[0m\u001b[0;34m(\u001b[0m\u001b[0ms\u001b[0m\u001b[0;34m,\u001b[0m \u001b[0midx\u001b[0m\u001b[0;34m=\u001b[0m\u001b[0m_w\u001b[0m\u001b[0;34m(\u001b[0m\u001b[0ms\u001b[0m\u001b[0;34m,\u001b[0m \u001b[0;36m0\u001b[0m\u001b[0;34m)\u001b[0m\u001b[0;34m.\u001b[0m\u001b[0mend\u001b[0m\u001b[0;34m(\u001b[0m\u001b[0;34m)\u001b[0m\u001b[0;34m)\u001b[0m\u001b[0;34m\u001b[0m\u001b[0;34m\u001b[0m\u001b[0m\n\u001b[0m\u001b[1;32m    338\u001b[0m         \u001b[0mend\u001b[0m \u001b[0;34m=\u001b[0m \u001b[0m_w\u001b[0m\u001b[0;34m(\u001b[0m\u001b[0ms\u001b[0m\u001b[0;34m,\u001b[0m \u001b[0mend\u001b[0m\u001b[0;34m)\u001b[0m\u001b[0;34m.\u001b[0m\u001b[0mend\u001b[0m\u001b[0;34m(\u001b[0m\u001b[0;34m)\u001b[0m\u001b[0;34m\u001b[0m\u001b[0;34m\u001b[0m\u001b[0m\n\u001b[1;32m    339\u001b[0m         \u001b[0;32mif\u001b[0m \u001b[0mend\u001b[0m \u001b[0;34m!=\u001b[0m \u001b[0mlen\u001b[0m\u001b[0;34m(\u001b[0m\u001b[0ms\u001b[0m\u001b[0;34m)\u001b[0m\u001b[0;34m:\u001b[0m\u001b[0;34m\u001b[0m\u001b[0;34m\u001b[0m\u001b[0m\n",
            "\u001b[0;32m/usr/lib/python3.8/json/decoder.py\u001b[0m in \u001b[0;36mraw_decode\u001b[0;34m(self, s, idx)\u001b[0m\n\u001b[1;32m    353\u001b[0m             \u001b[0mobj\u001b[0m\u001b[0;34m,\u001b[0m \u001b[0mend\u001b[0m \u001b[0;34m=\u001b[0m \u001b[0mself\u001b[0m\u001b[0;34m.\u001b[0m\u001b[0mscan_once\u001b[0m\u001b[0;34m(\u001b[0m\u001b[0ms\u001b[0m\u001b[0;34m,\u001b[0m \u001b[0midx\u001b[0m\u001b[0;34m)\u001b[0m\u001b[0;34m\u001b[0m\u001b[0;34m\u001b[0m\u001b[0m\n\u001b[1;32m    354\u001b[0m         \u001b[0;32mexcept\u001b[0m \u001b[0mStopIteration\u001b[0m \u001b[0;32mas\u001b[0m \u001b[0merr\u001b[0m\u001b[0;34m:\u001b[0m\u001b[0;34m\u001b[0m\u001b[0;34m\u001b[0m\u001b[0m\n\u001b[0;32m--> 355\u001b[0;31m             \u001b[0;32mraise\u001b[0m \u001b[0mJSONDecodeError\u001b[0m\u001b[0;34m(\u001b[0m\u001b[0;34m\"Expecting value\"\u001b[0m\u001b[0;34m,\u001b[0m \u001b[0ms\u001b[0m\u001b[0;34m,\u001b[0m \u001b[0merr\u001b[0m\u001b[0;34m.\u001b[0m\u001b[0mvalue\u001b[0m\u001b[0;34m)\u001b[0m \u001b[0;32mfrom\u001b[0m \u001b[0;32mNone\u001b[0m\u001b[0;34m\u001b[0m\u001b[0;34m\u001b[0m\u001b[0m\n\u001b[0m\u001b[1;32m    356\u001b[0m         \u001b[0;32mreturn\u001b[0m \u001b[0mobj\u001b[0m\u001b[0;34m,\u001b[0m \u001b[0mend\u001b[0m\u001b[0;34m\u001b[0m\u001b[0;34m\u001b[0m\u001b[0m\n",
            "\u001b[0;31mJSONDecodeError\u001b[0m: Expecting value: line 1 column 1 (char 0)"
          ]
        }
      ]
    },
    {
      "cell_type": "code",
      "source": [
        "import requests\n",
        "from time import time\n",
        "# url = 'http://35.232.59.3:8080'\n",
        "# place the domain you got from ngrok or GCP IP below. \n",
        "url = 'http://cade-34-23-163-173.ngrok.io'\n",
        "\n",
        "q_title = 'Information retrieval'\n",
        "true_wids = queries[q_title]\n",
        "# q = 'netflix'\n",
        "q = q_title\n",
        "qs_res = []\n",
        "# for q, true_wids in queries_partial.items():\n",
        "duration, ap = None, None\n",
        "t_start = time()\n",
        "try:\n",
        "  res = requests.get(url + '/search', {'query': q}, timeout=35)\n",
        "  duration = time() - t_start\n",
        "  if res.status_code == 200:\n",
        "    pred_wids, _ = zip(*res.json())\n",
        "    ap = average_precision(true_wids, pred_wids)\n",
        "except:\n",
        "  pass\n",
        "  \n",
        "qs_res.append((q, duration, ap))\n",
        "print(qs_res)"
      ],
      "metadata": {
        "colab": {
          "base_uri": "https://localhost:8080/"
        },
        "id": "ZvERwqlryzuZ",
        "outputId": "c6124135-5099-4295-e127-21b422cbe335"
      },
      "execution_count": 76,
      "outputs": [
        {
          "output_type": "stream",
          "name": "stdout",
          "text": [
            "[('Information retrieval', 3.2750065326690674, 0.917)]\n"
          ]
        }
      ]
    },
    {
      "cell_type": "code",
      "source": [
        "import re \n",
        "# download nltk stopwords\n",
        "import nltk\n",
        "from nltk.corpus import stopwords\n",
        "nltk.download('stopwords')\n",
        "\n",
        "\n",
        "english_stopwords = frozenset(stopwords.words('english'))\n",
        "corpus_stopwords = [\"category\", \"references\", \"also\", \"external\", \"links\",\n",
        "                    \"may\", \"first\", \"see\", \"history\", \"people\", \"one\", \"two\",\n",
        "                    \"part\", \"thumb\", \"including\", \"second\", \"following\",\n",
        "                    \"many\", \"however\", \"would\", \"became\"]\n",
        "\n",
        "all_stopwords = english_stopwords.union(corpus_stopwords)\n",
        "RE_WORD = re.compile(r\"\"\"[\\#\\@\\w](['\\-]?\\w){2,24}\"\"\", re.UNICODE)\n",
        "\n",
        "def tokenize(text):\n",
        "    tokens = [token.group() for token in RE_WORD.finditer(text.lower())]\n",
        "    tokens = set(tok for tok in tokens if tok not in all_stopwords)\n",
        "    # tokens = list(tok for tok in tokens if tok not in all_stopwords) TODO: check for list or set\n",
        "    return tokens\n",
        "\n",
        "s = \"hello goodbye?\"\n",
        "print(tokenize(s))"
      ],
      "metadata": {
        "colab": {
          "base_uri": "https://localhost:8080/"
        },
        "id": "3ax5qlD3ycLY",
        "outputId": "68117d94-5e45-44f8-9346-07fe2ed6ede4"
      },
      "execution_count": 20,
      "outputs": [
        {
          "output_type": "stream",
          "name": "stdout",
          "text": [
            "{'hello', 'goodbye'}\n"
          ]
        },
        {
          "output_type": "stream",
          "name": "stderr",
          "text": [
            "[nltk_data] Downloading package stopwords to /root/nltk_data...\n",
            "[nltk_data]   Unzipping corpora/stopwords.zip.\n"
          ]
        }
      ]
    },
    {
      "cell_type": "code",
      "source": [],
      "metadata": {
        "id": "-UhIclk7DJpc"
      },
      "execution_count": null,
      "outputs": []
    }
  ]
}