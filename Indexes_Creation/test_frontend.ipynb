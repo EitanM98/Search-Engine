{
 "cells": [
  {
   "cell_type": "code",
   "execution_count": 1,
   "id": "33e402a0",
   "metadata": {},
   "outputs": [
    {
     "name": "stdout",
     "output_type": "stream",
     "text": [
      "\u001B[33mWARNING: Running pip as the 'root' user can result in broken permissions and conflicting behaviour with the system package manager. It is recommended to use a virtual environment instead: https://pip.pypa.io/warnings/venv\u001B[0m\u001B[33m\n",
      "\u001B[0m\u001B[33mWARNING: Running pip as the 'root' user can result in broken permissions and conflicting behaviour with the system package manager. It is recommended to use a virtual environment instead: https://pip.pypa.io/warnings/venv\u001B[0m\u001B[33m\n",
      "\u001B[0mRequirement already satisfied: nltk==3.7 in /opt/conda/miniconda3/lib/python3.8/site-packages (3.7)\n",
      "Requirement already satisfied: joblib in /opt/conda/miniconda3/lib/python3.8/site-packages (from nltk==3.7) (1.2.0)\n",
      "Requirement already satisfied: tqdm in /opt/conda/miniconda3/lib/python3.8/site-packages (from nltk==3.7) (4.64.1)\n",
      "Requirement already satisfied: click in /opt/conda/miniconda3/lib/python3.8/site-packages (from nltk==3.7) (8.1.3)\n",
      "Requirement already satisfied: regex>=2021.8.3 in /opt/conda/miniconda3/lib/python3.8/site-packages (from nltk==3.7) (2022.10.31)\n",
      "\u001B[33mWARNING: Running pip as the 'root' user can result in broken permissions and conflicting behaviour with the system package manager. It is recommended to use a virtual environment instead: https://pip.pypa.io/warnings/venv\u001B[0m\u001B[33m\n",
      "\u001B[0mRequirement already satisfied: Flask in /opt/conda/miniconda3/lib/python3.8/site-packages (2.2.2)\n",
      "Requirement already satisfied: itsdangerous>=2.0 in /opt/conda/miniconda3/lib/python3.8/site-packages (from Flask) (2.1.2)\n",
      "Requirement already satisfied: click>=8.0 in /opt/conda/miniconda3/lib/python3.8/site-packages (from Flask) (8.1.3)\n",
      "Requirement already satisfied: Werkzeug>=2.2.2 in /opt/conda/miniconda3/lib/python3.8/site-packages (from Flask) (2.2.2)\n",
      "Requirement already satisfied: Jinja2>=3.0 in /opt/conda/miniconda3/lib/python3.8/site-packages (from Flask) (3.0.3)\n",
      "Requirement already satisfied: importlib-metadata>=3.6.0 in /opt/conda/miniconda3/lib/python3.8/site-packages (from Flask) (5.1.0)\n",
      "Requirement already satisfied: zipp>=0.5 in /opt/conda/miniconda3/lib/python3.8/site-packages (from importlib-metadata>=3.6.0->Flask) (3.11.0)\n",
      "Requirement already satisfied: MarkupSafe>=2.0 in /opt/conda/miniconda3/lib/python3.8/site-packages (from Jinja2>=3.0->Flask) (2.1.1)\n",
      "\u001B[33mWARNING: Running pip as the 'root' user can result in broken permissions and conflicting behaviour with the system package manager. It is recommended to use a virtual environment instead: https://pip.pypa.io/warnings/venv\u001B[0m\u001B[33m\n",
      "\u001B[0m"
     ]
    },
    {
     "name": "stderr",
     "output_type": "stream",
     "text": [
      "[nltk_data] Downloading package stopwords to /root/nltk_data...\n",
      "[nltk_data]   Package stopwords is already up-to-date!\n"
     ]
    },
    {
     "data": {
      "text/plain": [
       "True"
      ]
     },
     "execution_count": 1,
     "metadata": {},
     "output_type": "execute_result"
    }
   ],
   "source": [
    "!pip install -q google-cloud-storage==1.43.0\n",
    "!pip install -q graphframes\n",
    "!pip install nltk==3.7\n",
    "!pip install -U Flask\n",
    "import pyspark\n",
    "import sys\n",
    "from collections import Counter, OrderedDict, defaultdict\n",
    "import itertools\n",
    "from itertools import islice, count, groupby\n",
    "import pandas as pd\n",
    "import os\n",
    "import re\n",
    "from operator import itemgetter\n",
    "import nltk\n",
    "from nltk.stem.porter import *\n",
    "from nltk.corpus import stopwords\n",
    "from time import time\n",
    "from pathlib import Path\n",
    "import pickle\n",
    "import pandas as pd\n",
    "from google.cloud import storage\n",
    "import hashlib\n",
    "\n",
    "nltk.download('stopwords')\n"
   ]
  },
  {
   "cell_type": "code",
   "execution_count": 26,
   "id": "f5555d96",
   "metadata": {},
   "outputs": [],
   "source": [
    "from flask import Flask, request, jsonify\n",
    "import collections\n",
    "import csv\n",
    "import gzip"
   ]
  },
  {
   "cell_type": "code",
   "execution_count": 27,
   "id": "7bf43d69",
   "metadata": {},
   "outputs": [
    {
     "name": "stdout",
     "output_type": "stream",
     "text": [
      "/home/dataproc\n"
     ]
    }
   ],
   "source": [
    "%cd /home/dataproc\n",
    "# from inverted_index_gcp import InvertedIndex\n",
    "# from inverted_index_gcp import *\n",
    "# import inverted_index_gcp as iig\n",
    "from inverted_index_gcp import *"
   ]
  },
  {
   "cell_type": "code",
   "execution_count": 4,
   "id": "b1aec54e",
   "metadata": {},
   "outputs": [],
   "source": [
    "# import importlib\n",
    "# importlib.reload(iig)"
   ]
  },
  {
   "cell_type": "code",
   "execution_count": 4,
   "id": "fe924cc4",
   "metadata": {},
   "outputs": [],
   "source": [
    "path_anchor = \"/home/dataproc/postings_gcp_anchor\"\n",
    "path_body = \"/home/dataproc/postings_gcp_body\"\n",
    "path_title = \"/home/dataproc/postings_gcp_title\""
   ]
  },
  {
   "cell_type": "code",
   "execution_count": 5,
   "id": "edf4405a",
   "metadata": {},
   "outputs": [],
   "source": [
    "# Read indexes\n",
    "body_index = InvertedIndex.read_index('.',\"body_index\")\n",
    "anchor_index = InvertedIndex.read_index('.',\"anchor_index\")\n",
    "title_index = InvertedIndex.read_index('.',\"title_index\")"
   ]
  },
  {
   "cell_type": "code",
   "execution_count": 6,
   "id": "b2edebc3",
   "metadata": {},
   "outputs": [],
   "source": [
    "body_index.bin_path = path_body\n",
    "anchor_index.bin_path = path_anchor\n",
    "title_index.bin_path = path_title"
   ]
  },
  {
   "cell_type": "code",
   "execution_count": 7,
   "id": "0ba0e11a",
   "metadata": {},
   "outputs": [],
   "source": [
    "with open('doc_id_title_dict.pickle','rb') as f:\n",
    "    doc_title_dict = pickle.load(f)\n",
    "    \n",
    "with open('doc_len_dict.pickle','rb') as f:\n",
    "    doc_len_dict = pickle.load(f)\n",
    "    \n",
    "with open('page_views_dict.pkl','rb') as f:\n",
    "    page_views_dict = pickle.load(f)\n",
    "\n",
    "with open('page_rank_dict.pickle','rb') as f:\n",
    "    page_rank_dict = pickle.load(f)"
   ]
  },
  {
   "cell_type": "code",
   "execution_count": 7,
   "id": "6b092dab",
   "metadata": {},
   "outputs": [],
   "source": [
    "from contextlib import closing\n",
    "def read_posting_list(inverted, w, index_type=\"\"):\n",
    "    with closing(MultiFileReader()) as reader:\n",
    "        locs = inverted.posting_locs[w]\n",
    "        b = reader.read(locs, inverted.df[w] * TUPLE_SIZE,index_type)\n",
    "        posting_list = []\n",
    "        for i in range(inverted.df[w]):\n",
    "            doc_id = int.from_bytes(b[i*TUPLE_SIZE:i*TUPLE_SIZE+4], 'big')\n",
    "            tf = int.from_bytes(b[i*TUPLE_SIZE+4:(i+1)*TUPLE_SIZE], 'big')\n",
    "            posting_list.append((doc_id, tf))\n",
    "        return posting_list"
   ]
  },
  {
   "cell_type": "code",
   "execution_count": 8,
   "id": "2e9281ff",
   "metadata": {},
   "outputs": [],
   "source": [
    "# Reading posting list example:\n",
    "# lst = read_posting_list(body_index,\"texas\", path_body)\n",
    "# print(len(lst))"
   ]
  },
  {
   "cell_type": "code",
   "execution_count": 9,
   "id": "8ab5f63f",
   "metadata": {},
   "outputs": [],
   "source": [
    "english_stopwords = frozenset(stopwords.words('english'))\n",
    "corpus_stopwords = [\"category\", \"references\", \"also\", \"external\", \"links\",\n",
    "                    \"may\", \"first\", \"see\", \"history\", \"people\", \"one\", \"two\",\n",
    "                    \"part\", \"thumb\", \"including\", \"second\", \"following\",\n",
    "                    \"many\", \"however\", \"would\", \"became\"]\n",
    "\n",
    "all_stopwords = english_stopwords.union(corpus_stopwords)\n",
    "RE_WORD = re.compile(r\"\"\"[\\#\\@\\w](['\\-]?\\w){2,24}\"\"\", re.UNICODE)\n",
    "\n",
    "def tokenize(text):\n",
    "    tokens = [token.group() for token in RE_WORD.finditer(text.lower())]\n",
    "    tokens = set(tok for tok in tokens if tok not in all_stopwords)\n",
    "    return tokens\n",
    "\n"
   ]
  },
  {
   "cell_type": "code",
   "execution_count": 53,
   "id": "90c494f3",
   "metadata": {},
   "outputs": [],
   "source": [
    "def search_title():\n",
    "    ''' Returns ALL (not just top 100) search results that contain A QUERY WORD \n",
    "        IN THE TITLE of articles, ordered in descending order of the NUMBER OF \n",
    "        QUERY WORDS that appear in the title. For example, a document with a \n",
    "        title that matches two of the query words will be ranked before a \n",
    "        document with a title that matches only one query term. \n",
    "\n",
    "        Test this by navigating to the a URL like:\n",
    "         http://YOUR_SERVER_DOMAIN/search_title?query=hello+world\n",
    "        where YOUR_SERVER_DOMAIN is something like XXXX-XX-XX-XX-XX.ngrok.io\n",
    "        if you're using ngrok on Colab or your external IP on GCP.\n",
    "    Returns:\n",
    "    --------\n",
    "        list of ALL (not just top 100) search results, ordered from best to \n",
    "        worst where each element is a tuple (wiki_id, title).\n",
    "    '''\n",
    "\n",
    "    # query=[\"hello world\"] - > [(wiki_id, title)] sorted decreasing\n",
    "    # in a way that the title that contains most words of the query\n",
    "\n",
    "    res = []\n",
    "#     query = request.args.get('hello world', '')\n",
    "    query = \"LinkedIn\"\n",
    "#     query = \"hello\"\n",
    "    if len(query) == 0:\n",
    "        return jsonify(res)\n",
    "    # BEGIN SOLUTION\n",
    "\n",
    "    counter = collections.Counter()\n",
    "    for token in tokenize(query):\n",
    "        for docId_tf in title_index.read_posting_list(token):\n",
    "            doc_id = docId_tf[0]\n",
    "            title = doc_title_dict[doc_id]\n",
    "            counter[(doc_id, title)] += 1\n",
    "\n",
    "    \n",
    "#     res = [map(lambda tup:tup[0], counter.most_common())] \n",
    "    res = list(map(lambda tup:tup[0], counter.most_common()))\n",
    "    # END SOLUTION\n",
    "    return res"
   ]
  },
  {
   "cell_type": "code",
   "execution_count": 54,
   "id": "b800ad24",
   "metadata": {},
   "outputs": [
    {
     "name": "stdout",
     "output_type": "stream",
     "text": [
      "[(970755, 'LinkedIn'), (27769500, 'LinkedIn Pulse'), (36070366, '2012 LinkedIn hack'), (41726116, 'LinkedIn Learning'), (50191962, 'Timeline of LinkedIn'), (57147095, 'LinkedIn Top Companies'), (62976368, 'HiQ Labs v. LinkedIn')]\n"
     ]
    }
   ],
   "source": [
    "print(search_title())"
   ]
  },
  {
   "cell_type": "code",
   "execution_count": 57,
   "id": "6e881dc4",
   "metadata": {},
   "outputs": [],
   "source": [
    "def search_anchor():\n",
    "    # query=[\"hello world\"] - > [(wiki_id, title)] sorted decreasing\n",
    "    # in a way that the title that contains most words of the query\n",
    "\n",
    "    res = []\n",
    "#     query = request.args.get('hello world', '')\n",
    "    query = \"LinkedIn\"\n",
    "#     query = \"hello\"\n",
    "    if len(query) == 0:\n",
    "        return jsonify(res)\n",
    "    # BEGIN SOLUTION\n",
    "\n",
    "    counter_anchor = collections.Counter()\n",
    "    for token in tokenize(query):\n",
    "        for docId_tf in anchor_index.read_posting_list(token):\n",
    "            doc_id = docId_tf[0]\n",
    "            title = doc_title_dict[doc_id]\n",
    "            counter_anchor[(doc_id, title)] += 1\n",
    "\n",
    "    \n",
    "#     res = [map(lambda tup:tup[0], counter.most_common())] \n",
    "    res = list(map(lambda tup:tup[0], counter_anchor.most_common()))\n",
    "    # END SOLUTION\n",
    "    return res"
   ]
  },
  {
   "cell_type": "code",
   "execution_count": 31,
   "id": "a58d58fb",
   "metadata": {},
   "outputs": [],
   "source": [
    "# print(search_anchor())"
   ]
  },
  {
   "cell_type": "code",
   "execution_count": 61,
   "id": "95b06982",
   "metadata": {},
   "outputs": [],
   "source": [
    "def get_pageview():\n",
    "    ''' Returns the number of page views that each of the provide wiki articles\n",
    "        had in August 2021.\n",
    "\n",
    "        Test this by issuing a POST request to a URL like:\n",
    "          http://YOUR_SERVER_DOMAIN/get_pageview\n",
    "        with a json payload of the list of article ids. In python do:\n",
    "          import requests\n",
    "          requests.post('http://YOUR_SERVER_DOMAIN/get_pageview', json=[1,5,8])\n",
    "        As before YOUR_SERVER_DOMAIN is something like XXXX-XX-XX-XX-XX.ngrok.io\n",
    "        if you're using ngrok on Colab or your external IP on GCP.\n",
    "    Returns:\n",
    "    --------\n",
    "        list of ints:\n",
    "          list of page view numbers from August 2021 that correrspond to the \n",
    "          provided list article IDs.\n",
    "    '''\n",
    "\n",
    "    res = []\n",
    "#     wiki_ids = request.get_json()\n",
    "    wiki_ids = [848, 21105323, 23536538, 23797577]\n",
    "    if len(wiki_ids) == 0:\n",
    "        return res\n",
    "    # BEGIN SOLUTION\n",
    "    \n",
    "    res = [page_views_dict.get(doc_id, -1) for doc_id in wiki_ids]\n",
    "\n",
    "    # END SOLUTION\n",
    "    return res"
   ]
  },
  {
   "cell_type": "code",
   "execution_count": 62,
   "id": "be6bd398",
   "metadata": {},
   "outputs": [
    {
     "name": "stdout",
     "output_type": "stream",
     "text": [
      "[84370, 1042, 30483, 38197]\n"
     ]
    }
   ],
   "source": [
    "print(get_pageview())"
   ]
  },
  {
   "cell_type": "code",
   "execution_count": 34,
   "id": "007f8107",
   "metadata": {},
   "outputs": [],
   "source": [
    "def get_pagerank():\n",
    "    ''' Returns PageRank values for a list of provided wiki article IDs. \n",
    "\n",
    "        Test this by issuing a POST request to a URL like:\n",
    "          http://YOUR_SERVER_DOMAIN/get_pagerank\n",
    "        with a json payload of the list of article ids. In python do:\n",
    "          import requests\n",
    "          requests.post('http://YOUR_SERVER_DOMAIN/get_pagerank', json=[1,5,8])\n",
    "        As before YOUR_SERVER_DOMAIN is something like XXXX-XX-XX-XX-XX.ngrok.io\n",
    "        if you're using ngrok on Colab or your external IP on GCP.\n",
    "    Returns:\n",
    "    --------\n",
    "        list of floats:\n",
    "          list of PageRank scores that correrspond to the provided article IDs.\n",
    "    '''\n",
    "    res = []\n",
    "#     wiki_ids = request.get_json()\n",
    "    wiki_ids = [848, 3434750, 32927]\n",
    "    if len(wiki_ids) == 0:\n",
    "        return jsonify(res)\n",
    "    # BEGIN SOLUTION\n",
    "\n",
    "    res = [page_rank_dict.get(doc_id, -1) for doc_id in wiki_ids]\n",
    "    # END SOLUTION\n",
    "#     return jsonify(res)\n",
    "    return res"
   ]
  },
  {
   "cell_type": "code",
   "execution_count": null,
   "outputs": [],
   "source": [
    "print(get_pagerank())"
   ],
   "metadata": {
    "collapsed": false,
    "pycharm": {
     "name": "#%%\n"
    }
   }
  },
  {
   "cell_type": "code",
   "execution_count": 35,
   "id": "f4157bd1",
   "metadata": {},
   "outputs": [
    {
     "name": "stdout",
     "output_type": "stream",
     "text": [
      "[50.7020900020747, 9913.728782160773, 5282.081575765278]\n"
     ]
    }
   ],
   "source": []
  },
  {
   "cell_type": "code",
   "execution_count": null,
   "id": "01da98b3",
   "metadata": {},
   "outputs": [],
   "source": []
  }
 ],
 "metadata": {
  "kernelspec": {
   "display_name": "PySpark",
   "language": "python",
   "name": "pyspark"
  },
  "language_info": {
   "codemirror_mode": {
    "name": "ipython",
    "version": 3
   },
   "file_extension": ".py",
   "mimetype": "text/x-python",
   "name": "python",
   "nbconvert_exporter": "python",
   "pygments_lexer": "ipython3",
   "version": "3.8.15"
  }
 },
 "nbformat": 4,
 "nbformat_minor": 5
}